{
 "cells": [
  {
   "cell_type": "markdown",
   "metadata": {},
   "source": [
    "# <span style=\"color:#F72585\"><center>Introducción a Pyro</center></span>"
   ]
  },
  {
   "cell_type": "markdown",
   "metadata": {},
   "source": [
    "## <span style=\"color:#4361EE\">Pyro: Help</span> "
   ]
  },
  {
   "cell_type": "markdown",
   "metadata": {},
   "source": [
    "- Homepage: https://pyro.ai/\n",
    "- Documentation: https://docs.pyro.ai/en/stable/\n",
    "- Forum: https://forum.pyro.ai/"
   ]
  },
  {
   "cell_type": "markdown",
   "metadata": {},
   "source": [
    "## <span style=\"color:#4361EE\">¿Qué es Pyro?</span> "
   ]
  },
  {
   "cell_type": "markdown",
   "metadata": {},
   "source": [
    "Pyro es un lenguaje de programación probabilística de alto nivel escrito en Python y respaldado por [PyTorch](https://pytorch.org/) desde su backend. El usuario puede especificar o crear modelos estadísticos y hacer Inferencia Bayesiana a partir de ellos.    \n"
   ]
  },
  {
   "cell_type": "markdown",
   "metadata": {},
   "source": [
    "## <span style=\"color:#4361EE\">Motivación para Pyro y la Programación Probabilística</span> "
   ]
  },
  {
   "cell_type": "markdown",
   "metadata": {},
   "source": [
    "- Universal: Pyro puede representar cualquier distribución de probabilidad computable.\n",
    "- Escalable: Pyro escala a grandes conjuntos de datos con poca sobrecarga.\n",
    "- Mínimo: Pyro está implementado con un núcleo pequeño de abstracciones compuestas y poderosas.\n",
    "- Flexible: Pyro tiene como objetivo la automatización cuando lo desee, el control cuando lo necesite.\n"
   ]
  },
  {
   "cell_type": "markdown",
   "metadata": {},
   "source": [
    "## <span style=\"color:#4361EE\">Inferencia. Lo que hay en el transfondo de Pyro</span> "
   ]
  },
  {
   "cell_type": "markdown",
   "metadata": {},
   "source": [
    "**Hamiltonian Monte Carlo (HMC)**\n",
    "\n",
    "- *La distribución del parámetro es muestreada en un espacio sin restricciones*. La base teórica es el muestreador Monte Carlo Hamiltoniano, que permite escanear el espacio del parámetro de manera mucho más eficiente que lo que hacen los muestreadores clásicos Metrópolis- Hastings o Gibbs y sus derivados.\n",
    "- *Transformaciones del parámetro*: Ajuste automático del Jacobiano asociado a las  transformaciones.\n",
    "- *Diferenciación automática*: Gradientes del modelo con respecto a los parámetros usando diferenciación automática.\n",
    "\n",
    "**No-U-Turn Sampler (NUTS)**\n",
    "\n",
    "- *Ajuste (tunning)* automático de los parámetros del muestreador. \n",
    "- *Calentamiento*: Estimación de la matriz de masa y tamaño del paso del muestreador.\n",
    "- *Muestreo*: Número adaptativo de pasos.\n",
    "- *Mantiene el balance detallado*. Que asegura tener cadenas de Markov reversibles.\n",
    "\n",
    "**Optimización: estimación modal**\n",
    "\n",
    "- Métodos BFGS y Newton."
   ]
  },
  {
   "cell_type": "markdown",
   "metadata": {},
   "source": [
    "## <span style=\"color:#4361EE\">Stan para científicos y más...</span> \n"
   ]
  },
  {
   "cell_type": "markdown",
   "metadata": {},
   "source": [
    "- Lenguaje probabilístico flexible, el lenguaje sigue creciendo\n",
    "\n",
    "- Enfoque en la ciencia: el modelado y los supuestos.\n",
    "\n",
    "- Acceso a múltiples algoritmos (el valor predeterminado es bastante bueno)\n",
    "\n",
    "- Más rápido y menos propenso a errores que la implementación desde cero\n",
    "\n",
    "- Implementación eficiente\n",
    "\n",
    "- Mucha ayuda de modelado (gratis) en la lista de usuarios\n",
    "\n",
    "- Desarrolladores receptivos, soporte continuo para Pyro\n",
    "\n",
    "- No solo por inferencia\n",
    "\n",
    "- Muestreo de avance rápido; muchas distribuciones \n",
    "\n",
    "- Gradientes para funciones arbitrarias"
   ]
  },
  {
   "cell_type": "markdown",
   "metadata": {},
   "source": [
    "## <span style=\"color:#4361EE\">El lenguaje Pyro</span> \n"
   ]
  },
  {
   "cell_type": "markdown",
   "metadata": {},
   "source": [
    "### <span style=\"color:#4CC9F0\">Tipos de datos</span>"
   ]
  },
  {
   "cell_type": "markdown",
   "metadata": {},
   "source": [
    "- int\n",
    "- float\n",
    "- str\n",
    "- torch.tensor"
   ]
  },
  {
   "cell_type": "markdown",
   "metadata": {},
   "source": [
    "### <span style=\"color:#4CC9F0\">Variables Acotadas</span>"
   ]
  },
  {
   "cell_type": "markdown",
   "metadata": {},
   "source": [
    "- Aplica a datos o parámetros de tipo  int, real, matrix.\n",
    "\n",
    "- Ejemplo de lower: real<lower=0> sigma;\n",
    "\n",
    "- Ejemplo de upper: real<upper=100> x;\n"
   ]
  },
  {
   "cell_type": "markdown",
   "metadata": {},
   "source": [
    "### <span style=\"color:#4CC9F0\">Bloques de un programa</span>\n"
   ]
  },
  {
   "cell_type": "markdown",
   "metadata": {},
   "source": [
    "- data (opcional)\n",
    "\n",
    "- transformed data (opcional)\n",
    "\n",
    "- parameters (opcional)\n",
    "\n",
    "- transformed parameters (opcional)\n",
    "\n",
    "- model\n",
    "\n",
    "- generated quantities (opcional)\n"
   ]
  },
  {
   "cell_type": "markdown",
   "metadata": {},
   "source": [
    "## <span style=\"color:#4361EE\">Un primer ejemplo</span> \n"
   ]
  },
  {
   "cell_type": "markdown",
   "metadata": {},
   "source": [
    "Introducimos un primer ejemplo general. El desarrollo completo de este ejemplo puede encontrarse en [Models in Pyro](https://pyro.ai/examples/intro_long.html)"
   ]
  },
  {
   "cell_type": "markdown",
   "metadata": {},
   "source": [
    "### <span style=\"color:#4CC9F0\">Modelo Estadístico</span>\n"
   ]
  },
  {
   "cell_type": "markdown",
   "metadata": {},
   "source": [
    "Supongamos que tenemos observaciones $[y_n |x_n], n=1,\\ldots,N$, y asumamos el modelo Bayesiano\n",
    "\n",
    "$$\n",
    "\\begin{align*}\n",
    "y_n &\\sim \\mathcal{N}(\\alpha + \\beta x_n, \\sigma^2),\\quad n=1,\\ldots,N\\\\\n",
    "\\alpha &\\sim \\mathcal{N}(0, 100)\\\\\n",
    "\\beta &\\sim \\mathcal{N}(0, 100)\\\\\n",
    "\\sigma &\\sim \\mathcal{C}auchy(0, 25) 1_{\\sigma>0}\\\\\n",
    "\\end{align*}\n",
    "$$\n"
   ]
  },
  {
   "cell_type": "markdown",
   "metadata": {},
   "source": []
  },
  {
   "cell_type": "code",
   "execution_count": 1,
   "metadata": {},
   "outputs": [],
   "source": [
    "#Importamos las librerías necesarias\n",
    "import os\n",
    "import torch\n",
    "import torch.nn.functional as F\n",
    "import pyro\n",
    "import pyro.distributions as dist\n",
    "import graphviz\n"
   ]
  },
  {
   "cell_type": "code",
   "execution_count": 6,
   "metadata": {},
   "outputs": [],
   "source": [
    "x = torch.ones(100)\n",
    "def model(data):\n",
    "    alpha = pyro.sample(\"alpha\",dist.Normal(0,10))\n",
    "    beta = pyro.sample(\"beta\",dist.Normal(0,10))\n",
    "    sigma = pyro.sample(\"sigma\",dist.Cauchy(0,25))\n",
    "    with pyro.plate(\"N\",len(data)):\n",
    "        pyro.sample(\"obs\",dist.Normal(alpha+beta*x,sigma))\n"
   ]
  },
  {
   "cell_type": "code",
   "execution_count": 7,
   "metadata": {},
   "outputs": [
    {
     "data": {
      "image/svg+xml": "<?xml version=\"1.0\" encoding=\"UTF-8\" standalone=\"no\"?>\n<!DOCTYPE svg PUBLIC \"-//W3C//DTD SVG 1.1//EN\"\n \"http://www.w3.org/Graphics/SVG/1.1/DTD/svg11.dtd\">\n<!-- Generated by graphviz version 3.0.0 (20220226.1711)\n -->\n<!-- Pages: 1 -->\n<svg width=\"222pt\" height=\"155pt\"\n viewBox=\"0.00 0.00 221.74 155.00\" xmlns=\"http://www.w3.org/2000/svg\" xmlns:xlink=\"http://www.w3.org/1999/xlink\">\n<g id=\"graph0\" class=\"graph\" transform=\"scale(1 1) rotate(0) translate(4 151)\">\n<polygon fill=\"white\" stroke=\"transparent\" points=\"-4,4 -4,-151 217.74,-151 217.74,4 -4,4\"/>\n<g id=\"clust1\" class=\"cluster\">\n<title>cluster_N</title>\n<polygon fill=\"none\" stroke=\"black\" points=\"69.9,-8 69.9,-83 139.9,-83 139.9,-8 69.9,-8\"/>\n<text text-anchor=\"middle\" x=\"126.9\" y=\"-15.8\" font-family=\"Times New Roman,serif\" font-size=\"14.00\">N</text>\n</g>\n<!-- alpha -->\n<g id=\"node1\" class=\"node\">\n<title>alpha</title>\n<ellipse fill=\"white\" stroke=\"black\" cx=\"29.9\" cy=\"-129\" rx=\"29.8\" ry=\"18\"/>\n<text text-anchor=\"middle\" x=\"29.9\" y=\"-125.3\" font-family=\"Times New Roman,serif\" font-size=\"14.00\">alpha</text>\n</g>\n<!-- obs -->\n<g id=\"node4\" class=\"node\">\n<title>obs</title>\n<ellipse fill=\"white\" stroke=\"black\" cx=\"104.9\" cy=\"-57\" rx=\"27\" ry=\"18\"/>\n<text text-anchor=\"middle\" x=\"104.9\" y=\"-53.3\" font-family=\"Times New Roman,serif\" font-size=\"14.00\">obs</text>\n</g>\n<!-- alpha&#45;&gt;obs -->\n<g id=\"edge2\" class=\"edge\">\n<title>alpha&#45;&gt;obs</title>\n<path fill=\"none\" stroke=\"black\" d=\"M45.44,-113.5C56.14,-103.51 70.52,-90.09 82.46,-78.94\"/>\n<polygon fill=\"black\" stroke=\"black\" points=\"84.97,-81.39 89.89,-72.01 80.19,-76.27 84.97,-81.39\"/>\n</g>\n<!-- beta -->\n<g id=\"node2\" class=\"node\">\n<title>beta</title>\n<ellipse fill=\"white\" stroke=\"black\" cx=\"104.9\" cy=\"-129\" rx=\"27\" ry=\"18\"/>\n<text text-anchor=\"middle\" x=\"104.9\" y=\"-125.3\" font-family=\"Times New Roman,serif\" font-size=\"14.00\">beta</text>\n</g>\n<!-- beta&#45;&gt;obs -->\n<g id=\"edge3\" class=\"edge\">\n<title>beta&#45;&gt;obs</title>\n<path fill=\"none\" stroke=\"black\" d=\"M104.9,-110.7C104.9,-102.98 104.9,-93.71 104.9,-85.11\"/>\n<polygon fill=\"black\" stroke=\"black\" points=\"108.4,-85.1 104.9,-75.1 101.4,-85.1 108.4,-85.1\"/>\n</g>\n<!-- sigma -->\n<g id=\"node3\" class=\"node\">\n<title>sigma</title>\n<ellipse fill=\"white\" stroke=\"black\" cx=\"181.9\" cy=\"-129\" rx=\"31.7\" ry=\"18\"/>\n<text text-anchor=\"middle\" x=\"181.9\" y=\"-125.3\" font-family=\"Times New Roman,serif\" font-size=\"14.00\">sigma</text>\n</g>\n<!-- sigma&#45;&gt;obs -->\n<g id=\"edge1\" class=\"edge\">\n<title>sigma&#45;&gt;obs</title>\n<path fill=\"none\" stroke=\"black\" d=\"M165.57,-113.15C154.56,-103.15 139.88,-89.8 127.72,-78.75\"/>\n<polygon fill=\"black\" stroke=\"black\" points=\"129.91,-76.01 120.16,-71.87 125.2,-81.19 129.91,-76.01\"/>\n</g>\n</g>\n</svg>\n",
      "text/plain": [
       "<graphviz.graphs.Digraph at 0x1c2fd558fa0>"
      ]
     },
     "execution_count": 7,
     "metadata": {},
     "output_type": "execute_result"
    }
   ],
   "source": [
    "pyro.render_model(model, model_args=(x,))"
   ]
  }
 ],
 "metadata": {
  "interpreter": {
   "hash": "2647ea34e536f865ab67ff9ddee7fd78773d956cec0cab53c79b32cd10da5d83"
  },
  "kernelspec": {
   "display_name": "Python 3.9.3 64-bit",
   "language": "python",
   "name": "python3"
  },
  "language_info": {
   "codemirror_mode": {
    "name": "ipython",
    "version": 3
   },
   "file_extension": ".py",
   "mimetype": "text/x-python",
   "name": "python",
   "nbconvert_exporter": "python",
   "pygments_lexer": "ipython3",
   "version": "3.9.3"
  },
  "orig_nbformat": 4
 },
 "nbformat": 4,
 "nbformat_minor": 2
}
